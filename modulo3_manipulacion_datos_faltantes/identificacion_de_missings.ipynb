{
  "nbformat": 4,
  "nbformat_minor": 0,
  "metadata": {
    "colab": {
      "provenance": [],
      "authorship_tag": "ABX9TyPUUm6MFT23HvwqXI/PjCnn",
      "include_colab_link": true
    },
    "kernelspec": {
      "name": "python3",
      "display_name": "Python 3"
    },
    "language_info": {
      "name": "python"
    }
  },
  "cells": [
    {
      "cell_type": "markdown",
      "metadata": {
        "id": "view-in-github",
        "colab_type": "text"
      },
      "source": [
        "<a href=\"https://colab.research.google.com/github/s110/Data-Discovery/blob/main/modulo3_manipulacion_datos_faltantes/identificacion_de_missings.ipynb\" target=\"_parent\"><img src=\"https://colab.research.google.com/assets/colab-badge.svg\" alt=\"Open In Colab\"/></a>"
      ]
    },
    {
      "cell_type": "markdown",
      "source": [
        "<img src=\"https://posgrado.utec.edu.pe/sites/default/files/2023-08/Testimonial-home-2.jpg\" alt=\"HTML5 Icon\" width=\"900\" height=\"250\" >\n"
      ],
      "metadata": {
        "id": "Dsp00Dv_SKPb"
      }
    },
    {
      "cell_type": "markdown",
      "source": [
        "# **Identificación y Cuantificación de Missings**"
      ],
      "metadata": {
        "id": "84Ndb69ISM-z"
      }
    },
    {
      "cell_type": "markdown",
      "source": [
        "---\n",
        "\n",
        "**Objetivos**\n",
        "\n",
        "- Detectar y cuantificar valores faltantes en un conjunto de datos.\n",
        "\n",
        "- Visualizar patrones de omisión de datos.\n",
        "\n",
        "- Interpretar los resultados para tomar decisiones informadas sobre el tratamiento de los valores faltantes."
      ],
      "metadata": {
        "id": "foEka4agSTzx"
      }
    },
    {
      "cell_type": "markdown",
      "source": [
        "**Dataset Utilizado**\n",
        "\n",
        "Utilizaremos el dataset \"Loan Prediction Problem Dataset\" de Analytics Vidhya, que contiene información sobre solicitudes de préstamos y presenta valores faltantes reales.\n",
        "Analytics Vidhya\n",
        "\n",
        "Descargar el dataset desde: Loan Prediction Dataset\n",
        "\n"
      ],
      "metadata": {
        "id": "uzAJ8HT6SdAm"
      }
    },
    {
      "cell_type": "markdown",
      "source": [
        "Asegúrate de tener instaladas las siguientes librerías:"
      ],
      "metadata": {
        "id": "4G4PWTZNSkgK"
      }
    },
    {
      "cell_type": "code",
      "execution_count": null,
      "metadata": {
        "id": "F1jA39ihR94k"
      },
      "outputs": [],
      "source": [
        "!pip install pandas numpy matplotlib seaborn missingno"
      ]
    },
    {
      "cell_type": "markdown",
      "source": [
        "### 1. Importar Librerías y Cargar el Dataset\n"
      ],
      "metadata": {
        "id": "k5S56k59SsrO"
      }
    },
    {
      "cell_type": "code",
      "source": [
        "import pandas as pd\n",
        "import numpy as np\n",
        "import seaborn as sns\n",
        "import matplotlib.pyplot as plt\n",
        "import missingno as msno\n",
        "\n",
        "# Cargar el dataset\n",
        "df = pd.read_csv(\"train.csv\")  # Asegúrate de que el archivo esté en tu directorio de trabajo\n"
      ],
      "metadata": {
        "id": "zJcttpiCS0nt"
      },
      "execution_count": 2,
      "outputs": []
    },
    {
      "cell_type": "markdown",
      "source": [
        "### 2. Exploración Inicial"
      ],
      "metadata": {
        "id": "kj_WTJPtTPf7"
      }
    },
    {
      "cell_type": "code",
      "source": [
        "# Dimensiones del dataset\n",
        "print(f\"El dataset contiene {df.shape[0]} filas y {df.shape[1]} columnas.\")\n",
        "\n",
        "# Tipos de datos y conteo de valores no nulos\n",
        "df.info()"
      ],
      "metadata": {
        "id": "Li6Hc7fJTTjQ"
      },
      "execution_count": null,
      "outputs": []
    },
    {
      "cell_type": "markdown",
      "source": [
        "### 3. Cuantificación de Valores Faltantes"
      ],
      "metadata": {
        "id": "2rwVVe4rT_1G"
      }
    },
    {
      "cell_type": "code",
      "source": [
        "# Porcentaje de valores faltantes por variable\n",
        "missing_percent = df.isnull().mean().sort_values(ascending=False) * 100\n",
        "missing_percent = missing_percent[missing_percent > 0]\n",
        "\n",
        "# Visualización de los valores faltantes\n",
        "plt.figure(figsize=(8,4))\n",
        "sns.barplot(x=missing_percent.values, y=missing_percent.index, palette=\"viridis\")\n",
        "plt.title(\"Porcentaje de Valores Faltantes por Variable\")\n",
        "plt.xlabel(\"Porcentaje de Valores Faltantes\")\n",
        "plt.ylabel(\"Variables\")\n",
        "plt.show()\n"
      ],
      "metadata": {
        "id": "IDTuh3LwUC_e"
      },
      "execution_count": null,
      "outputs": []
    },
    {
      "cell_type": "markdown",
      "source": [
        "### 4. Visualización de Patrones de Valores Faltantes"
      ],
      "metadata": {
        "id": "wtj8AJwUULkE"
      }
    },
    {
      "cell_type": "code",
      "source": [
        "# Matriz de valores faltantes\n",
        "msno.matrix(df)\n",
        "plt.show()\n",
        "\n",
        "# Mapa de calor de correlaciones de omisión\n",
        "msno.heatmap(df)\n",
        "plt.show()\n",
        "\n",
        "# Dendrograma para agrupar variables con patrones similares de omisión\n",
        "msno.dendrogram(df)\n",
        "plt.show()\n"
      ],
      "metadata": {
        "id": "58_XMtRCUOa3"
      },
      "execution_count": null,
      "outputs": []
    },
    {
      "cell_type": "markdown",
      "source": [
        "### 5. Análisis de Filas con Múltiples Valores Faltantes"
      ],
      "metadata": {
        "id": "DXXruFQ3Uiem"
      }
    },
    {
      "cell_type": "code",
      "source": [
        "# Conteo de valores faltantes por fila\n",
        "df['Missing_Count'] = df.isnull().sum(axis=1)\n",
        "\n",
        "# Visualización de la distribución de valores faltantes por fila\n",
        "plt.figure(figsize=(8, 4))\n",
        "sns.histplot(df['Missing_Count'], bins=range(0, df['Missing_Count'].max()+1), kde=False, color='steelblue')\n",
        "plt.title(\"Distribución de Valores Faltantes por Fila\")\n",
        "plt.xlabel(\"Cantidad de Valores Faltantes\")\n",
        "plt.ylabel(\"Número de Filas\")\n",
        "plt.show()\n"
      ],
      "metadata": {
        "id": "_rsy21h2UiMz"
      },
      "execution_count": null,
      "outputs": []
    },
    {
      "cell_type": "markdown",
      "source": [
        "### Reflexión y Discusión\n",
        "\n",
        "- ¿Qué variables presentan el mayor porcentaje de valores faltantes?\n",
        "\n",
        "- ¿Existen patrones en los valores faltantes que sugieran una relación entre variables?\n",
        "\n",
        "- ¿Es apropiado eliminar filas o columnas con muchos valores faltantes, o es preferible imputarlos?\n",
        "\n",
        "- ¿Qué técnicas de imputación serían más adecuadas para este dataset?"
      ],
      "metadata": {
        "id": "Pe741loMU1c1"
      }
    },
    {
      "cell_type": "markdown",
      "source": [
        "### Conclusión\n",
        "\n",
        "Este laboratorio proporciona una guía práctica para la identificación y cuantificación de valores faltantes en un dataset real. Al aplicar estas técnicas, podrás tomar decisiones informadas sobre cómo manejar los valores faltantes y preparar tus datos para análisis posteriores o modelado predictivo."
      ],
      "metadata": {
        "id": "0L1mNiAhU77H"
      }
    },
    {
      "cell_type": "markdown",
      "source": [
        "---\n",
        "\n",
        "# Gracias por completar este laboratorio!\n",
        "\n",
        "---\n"
      ],
      "metadata": {
        "id": "vLQVtWdaVCFP"
      }
    }
  ]
}
